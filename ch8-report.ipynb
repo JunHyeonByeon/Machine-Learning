{
 "cells": [
  {
   "cell_type": "markdown",
   "metadata": {},
   "source": [
    "# 텍스트 분류 실습 과제"
   ]
  },
  {
   "cell_type": "markdown",
   "metadata": {},
   "source": [
    "### Rank 1 : TF-IDF+SVC / 0.658"
   ]
  },
  {
   "cell_type": "code",
   "execution_count": 62,
   "metadata": {},
   "outputs": [
    {
     "data": {
      "text/html": [
       "<div>\n",
       "<style scoped>\n",
       "    .dataframe tbody tr th:only-of-type {\n",
       "        vertical-align: middle;\n",
       "    }\n",
       "\n",
       "    .dataframe tbody tr th {\n",
       "        vertical-align: top;\n",
       "    }\n",
       "\n",
       "    .dataframe thead th {\n",
       "        text-align: right;\n",
       "    }\n",
       "</style>\n",
       "<table border=\"1\" class=\"dataframe\">\n",
       "  <thead>\n",
       "    <tr style=\"text-align: right;\">\n",
       "      <th></th>\n",
       "      <th>Result</th>\n",
       "    </tr>\n",
       "    <tr>\n",
       "      <th>Name</th>\n",
       "      <th></th>\n",
       "    </tr>\n",
       "  </thead>\n",
       "  <tbody>\n",
       "    <tr>\n",
       "      <th>TF-IDF+SVC</th>\n",
       "      <td>0.657594</td>\n",
       "    </tr>\n",
       "    <tr>\n",
       "      <th>Count+GBM</th>\n",
       "      <td>0.601832</td>\n",
       "    </tr>\n",
       "    <tr>\n",
       "      <th>Count+RF</th>\n",
       "      <td>0.597053</td>\n",
       "    </tr>\n",
       "    <tr>\n",
       "      <th>TF-IDF+RF</th>\n",
       "      <td>0.593335</td>\n",
       "    </tr>\n",
       "    <tr>\n",
       "      <th>Count+DT</th>\n",
       "      <td>0.418481</td>\n",
       "    </tr>\n",
       "    <tr>\n",
       "      <th>Count+SVC</th>\n",
       "      <td>0.097053</td>\n",
       "    </tr>\n",
       "  </tbody>\n",
       "</table>\n",
       "</div>"
      ],
      "text/plain": [
       "              Result\n",
       "Name                \n",
       "TF-IDF+SVC  0.657594\n",
       "Count+GBM   0.601832\n",
       "Count+RF    0.597053\n",
       "TF-IDF+RF   0.593335\n",
       "Count+DT    0.418481\n",
       "Count+SVC   0.097053"
      ]
     },
     "execution_count": 62,
     "metadata": {},
     "output_type": "execute_result"
    }
   ],
   "source": [
    "df"
   ]
  },
  {
   "cell_type": "code",
   "execution_count": 1,
   "metadata": {
    "scrolled": true
   },
   "outputs": [],
   "source": [
    "from sklearn.datasets import fetch_20newsgroups\n",
    "\n",
    "news_data = fetch_20newsgroups(subset='all', random_state=156)"
   ]
  },
  {
   "cell_type": "code",
   "execution_count": 2,
   "metadata": {},
   "outputs": [
    {
     "name": "stdout",
     "output_type": "stream",
     "text": [
      "<class 'list'> 11314\n"
     ]
    }
   ],
   "source": [
    "train_news= fetch_20newsgroups(subset='train', remove=('headers', 'footers', 'quotes'), random_state=156)\n",
    "X_train = train_news.data\n",
    "y_train = train_news.target\n",
    "print(type(X_train), len(X_train))"
   ]
  },
  {
   "cell_type": "code",
   "execution_count": 3,
   "metadata": {},
   "outputs": [
    {
     "name": "stdout",
     "output_type": "stream",
     "text": [
      "<class 'list'> 7532\n"
     ]
    }
   ],
   "source": [
    "test_news= fetch_20newsgroups(subset='test',remove=('headers', 'footers','quotes'),random_state=156)\n",
    "X_test = test_news.data\n",
    "y_test = test_news.target\n",
    "print(type(X_test) , len(X_test))"
   ]
  },
  {
   "cell_type": "code",
   "execution_count": 4,
   "metadata": {},
   "outputs": [
    {
     "data": {
      "text/plain": [
       "(11314, 101631)"
      ]
     },
     "execution_count": 4,
     "metadata": {},
     "output_type": "execute_result"
    }
   ],
   "source": [
    "from sklearn.feature_extraction.text import CountVectorizer\n",
    " \n",
    "cnt_vect = CountVectorizer()\n",
    "cnt_vect.fit(X_train)\n",
    "X_train_cnt_vect = cnt_vect.transform(X_train)\n",
    "X_test_cnt_vect = cnt_vect.transform(X_test)\n",
    "\n",
    "X_train_cnt_vect.shape"
   ]
  },
  {
   "cell_type": "code",
   "execution_count": 5,
   "metadata": {},
   "outputs": [
    {
     "data": {
      "text/plain": [
       "(11314, 101631)"
      ]
     },
     "execution_count": 5,
     "metadata": {},
     "output_type": "execute_result"
    }
   ],
   "source": [
    "from sklearn.feature_extraction.text import TfidfVectorizer\n",
    " \n",
    "tfidf_vect = TfidfVectorizer()\n",
    "tfidf_vect.fit(X_train)\n",
    "X_train_tfidf_vect = tfidf_vect.transform(X_train)\n",
    "X_test_tfidf_vect = tfidf_vect.transform(X_test)\n",
    "\n",
    "X_train_tfidf_vect.shape"
   ]
  },
  {
   "cell_type": "code",
   "execution_count": 6,
   "metadata": {},
   "outputs": [],
   "source": [
    "name=[]\n",
    "result=[]"
   ]
  },
  {
   "cell_type": "markdown",
   "metadata": {},
   "source": [
    "### 1. Count + SVC"
   ]
  },
  {
   "cell_type": "code",
   "execution_count": 7,
   "metadata": {},
   "outputs": [
    {
     "name": "stdout",
     "output_type": "stream",
     "text": [
      "CountVectorized SVC 의 예측 정확도는  0.097\n"
     ]
    }
   ],
   "source": [
    "from sklearn.svm import SVC\n",
    "from sklearn.metrics import accuracy_score\n",
    "\n",
    "svc = SVC()\n",
    "svc.fit(X_train_cnt_vect, y_train)\n",
    "pred = svc.predict(X_test_cnt_vect)\n",
    "\n",
    "print('CountVectorized SVC 의 예측 정확도는 {0: .3f}'.format(accuracy_score(y_test,pred)))\n",
    "\n",
    "name.append('Count+SVC')\n",
    "result.append(accuracy_score(y_test,pred))"
   ]
  },
  {
   "cell_type": "markdown",
   "metadata": {},
   "source": [
    "### 2. Count + DT"
   ]
  },
  {
   "cell_type": "code",
   "execution_count": 8,
   "metadata": {},
   "outputs": [
    {
     "name": "stdout",
     "output_type": "stream",
     "text": [
      "CountVectorized DecisionTree 의 예측 정확도는  0.418\n"
     ]
    }
   ],
   "source": [
    "from sklearn.tree import DecisionTreeClassifier\n",
    "\n",
    "dt_clf = DecisionTreeClassifier()\n",
    "dt_clf.fit(X_train_cnt_vect, y_train)\n",
    "pred = dt_clf.predict(X_test_cnt_vect)\n",
    "\n",
    "print('CountVectorized DecisionTree 의 예측 정확도는 {0: .3f}'.format(accuracy_score(y_test,pred)))\n",
    "\n",
    "name.append('Count+DT')\n",
    "result.append(accuracy_score(y_test,pred))"
   ]
  },
  {
   "cell_type": "markdown",
   "metadata": {},
   "source": [
    "### 3. Count + RF"
   ]
  },
  {
   "cell_type": "code",
   "execution_count": 9,
   "metadata": {},
   "outputs": [
    {
     "name": "stdout",
     "output_type": "stream",
     "text": [
      "CountVectorized RandomForest 의 예측 정확도는  0.597\n"
     ]
    }
   ],
   "source": [
    "from sklearn.ensemble import RandomForestClassifier\n",
    "\n",
    "rf_clf = RandomForestClassifier()\n",
    "rf_clf.fit(X_train_cnt_vect, y_train)\n",
    "pred = rf_clf.predict(X_test_cnt_vect)\n",
    "\n",
    "print('CountVectorized RandomForest 의 예측 정확도는 {0: .3f}'.format(accuracy_score(y_test,pred)))\n",
    "\n",
    "name.append('Count+RF')\n",
    "result.append(accuracy_score(y_test,pred))"
   ]
  },
  {
   "cell_type": "markdown",
   "metadata": {},
   "source": [
    "### 4. Count+GBM"
   ]
  },
  {
   "cell_type": "code",
   "execution_count": 10,
   "metadata": {},
   "outputs": [
    {
     "name": "stdout",
     "output_type": "stream",
     "text": [
      "      Iter       Train Loss   Remaining Time \n",
      "         1       28276.8300           13.71m\n",
      "         2       26455.1038           13.60m\n",
      "         3       25240.5563           13.58m\n",
      "         4       24261.3988           13.48m\n",
      "         5       23429.0950           13.32m\n",
      "         6       22748.4687           13.18m\n",
      "         7       22151.8465           13.11m\n",
      "         8       21628.4748           13.00m\n",
      "         9       21147.4897           13.03m\n",
      "        10       20704.9184           12.88m\n",
      "        20       17649.2452           11.44m\n",
      "        30       15675.7689           10.09m\n",
      "        40       14231.9723            9.51m\n",
      "        50       13195.2192            7.83m\n",
      "        60       12267.1206            6.17m\n",
      "        70       11391.3860            4.70m\n",
      "        80       10649.4106            3.19m\n",
      "        90       10051.8661            1.63m\n",
      "       100        9607.6771            0.00s\n",
      "CountVectorized GBM 의 예측 정확도는  0.602\n"
     ]
    }
   ],
   "source": [
    "from sklearn.ensemble import GradientBoostingClassifier\n",
    "\n",
    "gb_clf = GradientBoostingClassifier(verbose=1)\n",
    "gb_clf.fit(X_train_cnt_vect, y_train)\n",
    "pred = gb_clf.predict(X_test_cnt_vect)\n",
    "\n",
    "print('CountVectorized GBM 의 예측 정확도는 {0: .3f}'.format(accuracy_score(y_test,pred)))\n",
    "\n",
    "name.append('Count+GBM')\n",
    "result.append(accuracy_score(y_test,pred))"
   ]
  },
  {
   "cell_type": "markdown",
   "metadata": {},
   "source": [
    "### 5. TF-IDF+RF"
   ]
  },
  {
   "cell_type": "code",
   "execution_count": 11,
   "metadata": {},
   "outputs": [
    {
     "name": "stdout",
     "output_type": "stream",
     "text": [
      "TF-IDF Vectorized RandomForest 의 예측 정확도는  0.593\n"
     ]
    }
   ],
   "source": [
    "rf_clf = RandomForestClassifier()\n",
    "rf_clf.fit(X_train_tfidf_vect, y_train)\n",
    "pred = rf_clf.predict(X_test_tfidf_vect)\n",
    "\n",
    "print('TF-IDF Vectorized RandomForest 의 예측 정확도는 {0: .3f}'.format(accuracy_score(y_test,pred)))\n",
    "\n",
    "name.append('TF-IDF+RF')\n",
    "result.append(accuracy_score(y_test,pred))"
   ]
  },
  {
   "cell_type": "markdown",
   "metadata": {},
   "source": [
    "### 6. TF-IDF+SVC"
   ]
  },
  {
   "cell_type": "code",
   "execution_count": 12,
   "metadata": {},
   "outputs": [
    {
     "name": "stdout",
     "output_type": "stream",
     "text": [
      "TF-IDF Vectorized SVC 의 예측 정확도는  0.658\n"
     ]
    }
   ],
   "source": [
    "svc = SVC()\n",
    "svc.fit(X_train_tfidf_vect, y_train)\n",
    "pred = svc.predict(X_test_tfidf_vect)\n",
    "\n",
    "print('TF-IDF Vectorized SVC 의 예측 정확도는 {0: .3f}'.format(accuracy_score(y_test,pred)))\n",
    "\n",
    "name.append('TF-IDF+SVC')\n",
    "result.append(accuracy_score(y_test,pred))"
   ]
  },
  {
   "cell_type": "code",
   "execution_count": 61,
   "metadata": {},
   "outputs": [],
   "source": [
    "import pandas as pd\n",
    "\n",
    "df = pd.DataFrame(data = result, index = name)\n",
    "df.index.names = ['Name']\n",
    "df.columns = ['Result']\n",
    "df.sort_values(ascending = False, by = 'Result', inplace = True)"
   ]
  },
  {
   "cell_type": "code",
   "execution_count": null,
   "metadata": {},
   "outputs": [],
   "source": []
  }
 ],
 "metadata": {
  "kernelspec": {
   "display_name": "Python 3",
   "language": "python",
   "name": "python3"
  },
  "language_info": {
   "codemirror_mode": {
    "name": "ipython",
    "version": 3
   },
   "file_extension": ".py",
   "mimetype": "text/x-python",
   "name": "python",
   "nbconvert_exporter": "python",
   "pygments_lexer": "ipython3",
   "version": "3.7.6"
  }
 },
 "nbformat": 4,
 "nbformat_minor": 4
}
